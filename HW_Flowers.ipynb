{
  "nbformat": 4,
  "nbformat_minor": 0,
  "metadata": {
    "colab": {
      "provenance": [],
      "mount_file_id": "14JhnozCN6-7EbILRzEm7dgLdQWT362tP",
      "authorship_tag": "ABX9TyPDJVGAtjrm30EZL4ZKUSFN",
      "include_colab_link": true
    },
    "kernelspec": {
      "name": "python3",
      "display_name": "Python 3"
    },
    "language_info": {
      "name": "python"
    },
    "accelerator": "GPU",
    "gpuClass": "standard"
  },
  "cells": [
    {
      "cell_type": "markdown",
      "metadata": {
        "id": "view-in-github",
        "colab_type": "text"
      },
      "source": [
        "<a href=\"https://colab.research.google.com/github/Thanhnhat1211/Bai-Tap-AI/blob/main/HW_Flowers.ipynb\" target=\"_parent\"><img src=\"https://colab.research.google.com/assets/colab-badge.svg\" alt=\"Open In Colab\"/></a>"
      ]
    },
    {
      "cell_type": "code",
      "execution_count": null,
      "metadata": {
        "colab": {
          "base_uri": "https://localhost:8080/"
        },
        "id": "qgeMtvg4TQBa",
        "outputId": "6bd136a5-3967-458a-e441-b90dcec8a53e"
      },
      "outputs": [
        {
          "output_type": "stream",
          "name": "stdout",
          "text": [
            "Drive already mounted at /content/drive; to attempt to forcibly remount, call drive.mount(\"/content/drive\", force_remount=True).\n",
            "(59, 30, 40, 3) (59,)\n"
          ]
        }
      ],
      "source": [
        "from numpy import asarray\n",
        "from os import listdir\n",
        "from numpy import asarray,save\n",
        "from keras.utils import img_to_array,load_img\n",
        "from google.colab import drive\n",
        "drive.mount('/content/drive')\n",
        "from keras.models import load_model\n",
        "\n",
        "folder = '/content/drive/MyDrive/Flowers/'\n",
        "photos, labels=list (),list()\n",
        "for file in listdir(folder):\n",
        "  output=0.0\n",
        "  if file.startswith ('rose'):\n",
        "    output=1.0\n",
        "  if file.startswith ('lotus'):\n",
        "    output=2.0\n",
        "  if file.startswith ('iris'):\n",
        "    output = 3.0\n",
        "  if file.startswith ('daisy'):\n",
        "    output = 4.0\n",
        "  if file.startswith ('apricot'):\n",
        "    output = 5.0\n",
        "  img =load_img(folder+ file,target_size=(30,40))\n",
        "  photo = img_to_array(img)\n",
        "  photos.append(photo)\n",
        "  labels.append(output)\n",
        "photos =asarray(photos)\n",
        "labels =asarray(labels)\n",
        "print(photos.shape,labels.shape)\n",
        "save('flowers_photos.npy',photos)\n",
        "save('flowers_labels.npy',labels)"
      ]
    },
    {
      "cell_type": "code",
      "source": [
        "import numpy as np\n",
        "x_train = np.load('/content/flowers_photos.npy')\n",
        "y_train = np.load('/content/flowers_labels.npy')\n",
        "print(x_train.shape)\n",
        "print(y_train.shape)\n",
        "x=x_train\n",
        "y=y_train\n",
        "from keras.utils import to_categorical\n",
        "x_train = x_train.astype('float32')/255\n",
        "y_train = to_categorical(y_train,100)"
      ],
      "metadata": {
        "id": "NxpT1KToTb04",
        "colab": {
          "base_uri": "https://localhost:8080/"
        },
        "outputId": "4510209b-506b-4d5a-9932-51c127b875ef"
      },
      "execution_count": null,
      "outputs": [
        {
          "output_type": "stream",
          "name": "stdout",
          "text": [
            "(59, 30, 40, 3)\n",
            "(59,)\n"
          ]
        }
      ]
    },
    {
      "cell_type": "code",
      "source": [
        "from keras.backend import flatten\n",
        "from keras.models import Sequential\n",
        "from keras.layers import Dense,Dropout,Flatten,Conv2D,MaxPooling2D,Normalization,LeakyReLU\n",
        "from keras.optimizers import Adam\n",
        "#32 lần\n",
        "model = Sequential()\n",
        "model.add(Conv2D(32,kernel_size = (3,3),activation = 'relu',input_shape=(30,40,3),padding='Same'))\n",
        "model.add(MaxPooling2D((2,2),padding='same'))\n",
        "model.add(Dropout(0.25))\n",
        "\n",
        "#64 lần\n",
        "model.add(Conv2D(64,(3,3),activation ='relu',padding ='same'))\n",
        "model.add(MaxPooling2D((2,2),padding='same'))\n",
        "model.add(Dropout(0.25))\n",
        "\n",
        "#128 lần\n",
        "model.add(Conv2D(128,(3,3),activation ='relu',padding ='same'))\n",
        "model.add(MaxPooling2D((2,2),padding='same'))\n",
        "model.add(Dropout(0.25))\n",
        "\n",
        "#256 lần\n",
        "model.add(Conv2D(256,(3,3),activation ='relu',padding ='same'))\n",
        "model.add(MaxPooling2D((2,2),padding='same'))\n",
        "model.add(Dropout(0.25))\n",
        "\n",
        "model.add(Flatten())\n",
        "model.add(Dense(256,activation='relu'))\n",
        "model.add(LeakyReLU(alpha=0.1))\n",
        "model.add(Dense(100,activation='softmax'))\n",
        "\n",
        "from keras.losses import categorical_crossentropy\n",
        "model.compile(loss='categorical_crossentropy',optimizer=Adam(),metrics=['accuracy'])\n",
        "model.summary()\n",
        "train = model.fit(x_train,y_train,epochs=100,batch_size=64,verbose=1)"
      ],
      "metadata": {
        "id": "sttLSJkATfZ9",
        "colab": {
          "base_uri": "https://localhost:8080/"
        },
        "outputId": "7a1bb762-7b3e-402a-f63d-9a711aa9e1ad"
      },
      "execution_count": null,
      "outputs": [
        {
          "output_type": "stream",
          "name": "stdout",
          "text": [
            "Model: \"sequential\"\n",
            "_________________________________________________________________\n",
            " Layer (type)                Output Shape              Param #   \n",
            "=================================================================\n",
            " conv2d (Conv2D)             (None, 30, 40, 32)        896       \n",
            "                                                                 \n",
            " max_pooling2d (MaxPooling2D  (None, 15, 20, 32)       0         \n",
            " )                                                               \n",
            "                                                                 \n",
            " dropout (Dropout)           (None, 15, 20, 32)        0         \n",
            "                                                                 \n",
            " conv2d_1 (Conv2D)           (None, 15, 20, 64)        18496     \n",
            "                                                                 \n",
            " max_pooling2d_1 (MaxPooling  (None, 8, 10, 64)        0         \n",
            " 2D)                                                             \n",
            "                                                                 \n",
            " dropout_1 (Dropout)         (None, 8, 10, 64)         0         \n",
            "                                                                 \n",
            " conv2d_2 (Conv2D)           (None, 8, 10, 128)        73856     \n",
            "                                                                 \n",
            " max_pooling2d_2 (MaxPooling  (None, 4, 5, 128)        0         \n",
            " 2D)                                                             \n",
            "                                                                 \n",
            " dropout_2 (Dropout)         (None, 4, 5, 128)         0         \n",
            "                                                                 \n",
            " conv2d_3 (Conv2D)           (None, 4, 5, 256)         295168    \n",
            "                                                                 \n",
            " max_pooling2d_3 (MaxPooling  (None, 2, 3, 256)        0         \n",
            " 2D)                                                             \n",
            "                                                                 \n",
            " dropout_3 (Dropout)         (None, 2, 3, 256)         0         \n",
            "                                                                 \n",
            " flatten (Flatten)           (None, 1536)              0         \n",
            "                                                                 \n",
            " dense (Dense)               (None, 256)               393472    \n",
            "                                                                 \n",
            " leaky_re_lu (LeakyReLU)     (None, 256)               0         \n",
            "                                                                 \n",
            " dense_1 (Dense)             (None, 100)               25700     \n",
            "                                                                 \n",
            "=================================================================\n",
            "Total params: 807,588\n",
            "Trainable params: 807,588\n",
            "Non-trainable params: 0\n",
            "_________________________________________________________________\n",
            "Epoch 1/100\n",
            "1/1 [==============================] - 8s 8s/step - loss: 4.6002 - accuracy: 0.0000e+00\n",
            "Epoch 2/100\n",
            "1/1 [==============================] - 0s 16ms/step - loss: 3.8036 - accuracy: 0.1864\n",
            "Epoch 3/100\n",
            "1/1 [==============================] - 0s 16ms/step - loss: 2.4967 - accuracy: 0.2542\n",
            "Epoch 4/100\n",
            "1/1 [==============================] - 0s 15ms/step - loss: 1.6671 - accuracy: 0.3051\n",
            "Epoch 5/100\n",
            "1/1 [==============================] - 0s 14ms/step - loss: 1.9535 - accuracy: 0.1695\n",
            "Epoch 6/100\n",
            "1/1 [==============================] - 0s 14ms/step - loss: 2.0041 - accuracy: 0.2712\n",
            "Epoch 7/100\n",
            "1/1 [==============================] - 0s 14ms/step - loss: 3.1267 - accuracy: 0.2203\n",
            "Epoch 8/100\n",
            "1/1 [==============================] - 0s 14ms/step - loss: 2.2837 - accuracy: 0.3220\n",
            "Epoch 9/100\n",
            "1/1 [==============================] - 0s 13ms/step - loss: 2.3052 - accuracy: 0.2881\n",
            "Epoch 10/100\n",
            "1/1 [==============================] - 0s 13ms/step - loss: 2.1295 - accuracy: 0.3051\n",
            "Epoch 11/100\n",
            "1/1 [==============================] - 0s 13ms/step - loss: 2.0309 - accuracy: 0.1525\n",
            "Epoch 12/100\n",
            "1/1 [==============================] - 0s 14ms/step - loss: 1.6675 - accuracy: 0.2203\n",
            "Epoch 13/100\n",
            "1/1 [==============================] - 0s 14ms/step - loss: 1.5623 - accuracy: 0.3729\n",
            "Epoch 14/100\n",
            "1/1 [==============================] - 0s 40ms/step - loss: 1.6247 - accuracy: 0.2881\n",
            "Epoch 15/100\n",
            "1/1 [==============================] - 0s 21ms/step - loss: 1.7090 - accuracy: 0.2542\n",
            "Epoch 16/100\n",
            "1/1 [==============================] - 0s 26ms/step - loss: 1.7810 - accuracy: 0.2203\n",
            "Epoch 17/100\n",
            "1/1 [==============================] - 0s 24ms/step - loss: 1.8004 - accuracy: 0.2034\n",
            "Epoch 18/100\n",
            "1/1 [==============================] - 0s 23ms/step - loss: 1.8041 - accuracy: 0.2034\n",
            "Epoch 19/100\n",
            "1/1 [==============================] - 0s 30ms/step - loss: 1.7301 - accuracy: 0.2373\n",
            "Epoch 20/100\n",
            "1/1 [==============================] - 0s 24ms/step - loss: 1.6797 - accuracy: 0.3220\n",
            "Epoch 21/100\n",
            "1/1 [==============================] - 0s 21ms/step - loss: 1.6686 - accuracy: 0.3390\n",
            "Epoch 22/100\n",
            "1/1 [==============================] - 0s 20ms/step - loss: 1.6216 - accuracy: 0.3559\n",
            "Epoch 23/100\n",
            "1/1 [==============================] - 0s 25ms/step - loss: 1.6201 - accuracy: 0.4576\n",
            "Epoch 24/100\n",
            "1/1 [==============================] - 0s 26ms/step - loss: 1.5827 - accuracy: 0.4068\n",
            "Epoch 25/100\n",
            "1/1 [==============================] - 0s 22ms/step - loss: 1.4843 - accuracy: 0.4576\n",
            "Epoch 26/100\n",
            "1/1 [==============================] - 0s 24ms/step - loss: 1.4025 - accuracy: 0.4746\n",
            "Epoch 27/100\n",
            "1/1 [==============================] - 0s 22ms/step - loss: 1.3270 - accuracy: 0.5424\n",
            "Epoch 28/100\n",
            "1/1 [==============================] - 0s 22ms/step - loss: 1.2846 - accuracy: 0.5085\n",
            "Epoch 29/100\n",
            "1/1 [==============================] - 0s 19ms/step - loss: 1.2360 - accuracy: 0.5763\n",
            "Epoch 30/100\n",
            "1/1 [==============================] - 0s 22ms/step - loss: 1.2488 - accuracy: 0.4576\n",
            "Epoch 31/100\n",
            "1/1 [==============================] - 0s 19ms/step - loss: 1.1869 - accuracy: 0.4576\n",
            "Epoch 32/100\n",
            "1/1 [==============================] - 0s 41ms/step - loss: 1.1170 - accuracy: 0.5932\n",
            "Epoch 33/100\n",
            "1/1 [==============================] - 0s 33ms/step - loss: 1.0749 - accuracy: 0.5932\n",
            "Epoch 34/100\n",
            "1/1 [==============================] - 0s 47ms/step - loss: 1.0247 - accuracy: 0.6102\n",
            "Epoch 35/100\n",
            "1/1 [==============================] - 0s 19ms/step - loss: 1.0340 - accuracy: 0.5763\n",
            "Epoch 36/100\n",
            "1/1 [==============================] - 0s 16ms/step - loss: 1.0102 - accuracy: 0.6780\n",
            "Epoch 37/100\n",
            "1/1 [==============================] - 0s 21ms/step - loss: 1.0054 - accuracy: 0.6102\n",
            "Epoch 38/100\n",
            "1/1 [==============================] - 0s 15ms/step - loss: 0.9645 - accuracy: 0.6271\n",
            "Epoch 39/100\n",
            "1/1 [==============================] - 0s 17ms/step - loss: 0.9341 - accuracy: 0.6441\n",
            "Epoch 40/100\n",
            "1/1 [==============================] - 0s 16ms/step - loss: 0.8683 - accuracy: 0.6441\n",
            "Epoch 41/100\n",
            "1/1 [==============================] - 0s 13ms/step - loss: 0.8172 - accuracy: 0.6780\n",
            "Epoch 42/100\n",
            "1/1 [==============================] - 0s 20ms/step - loss: 0.7980 - accuracy: 0.6441\n",
            "Epoch 43/100\n",
            "1/1 [==============================] - 0s 17ms/step - loss: 0.7611 - accuracy: 0.7119\n",
            "Epoch 44/100\n",
            "1/1 [==============================] - 0s 15ms/step - loss: 0.8112 - accuracy: 0.7288\n",
            "Epoch 45/100\n",
            "1/1 [==============================] - 0s 14ms/step - loss: 0.7342 - accuracy: 0.6780\n",
            "Epoch 46/100\n",
            "1/1 [==============================] - 0s 14ms/step - loss: 0.6633 - accuracy: 0.6949\n",
            "Epoch 47/100\n",
            "1/1 [==============================] - 0s 15ms/step - loss: 0.6193 - accuracy: 0.7288\n",
            "Epoch 48/100\n",
            "1/1 [==============================] - 0s 15ms/step - loss: 0.6108 - accuracy: 0.7627\n",
            "Epoch 49/100\n",
            "1/1 [==============================] - 0s 13ms/step - loss: 0.6891 - accuracy: 0.8136\n",
            "Epoch 50/100\n",
            "1/1 [==============================] - 0s 14ms/step - loss: 0.5872 - accuracy: 0.8136\n",
            "Epoch 51/100\n",
            "1/1 [==============================] - 0s 15ms/step - loss: 0.5714 - accuracy: 0.8305\n",
            "Epoch 52/100\n",
            "1/1 [==============================] - 0s 15ms/step - loss: 0.4675 - accuracy: 0.8305\n",
            "Epoch 53/100\n",
            "1/1 [==============================] - 0s 14ms/step - loss: 0.5634 - accuracy: 0.7458\n",
            "Epoch 54/100\n",
            "1/1 [==============================] - 0s 14ms/step - loss: 0.4483 - accuracy: 0.8644\n",
            "Epoch 55/100\n",
            "1/1 [==============================] - 0s 14ms/step - loss: 0.4996 - accuracy: 0.8136\n",
            "Epoch 56/100\n",
            "1/1 [==============================] - 0s 13ms/step - loss: 0.4232 - accuracy: 0.8644\n",
            "Epoch 57/100\n",
            "1/1 [==============================] - 0s 17ms/step - loss: 0.3599 - accuracy: 0.8983\n",
            "Epoch 58/100\n",
            "1/1 [==============================] - 0s 14ms/step - loss: 0.5398 - accuracy: 0.7797\n",
            "Epoch 59/100\n",
            "1/1 [==============================] - 0s 15ms/step - loss: 0.2913 - accuracy: 0.9322\n",
            "Epoch 60/100\n",
            "1/1 [==============================] - 0s 51ms/step - loss: 0.3735 - accuracy: 0.8814\n",
            "Epoch 61/100\n",
            "1/1 [==============================] - 0s 50ms/step - loss: 0.4450 - accuracy: 0.8814\n",
            "Epoch 62/100\n",
            "1/1 [==============================] - 0s 46ms/step - loss: 0.3020 - accuracy: 0.9153\n",
            "Epoch 63/100\n",
            "1/1 [==============================] - 0s 42ms/step - loss: 0.3618 - accuracy: 0.8475\n",
            "Epoch 64/100\n",
            "1/1 [==============================] - 0s 37ms/step - loss: 0.2624 - accuracy: 0.9492\n",
            "Epoch 65/100\n",
            "1/1 [==============================] - 0s 47ms/step - loss: 0.3043 - accuracy: 0.8983\n",
            "Epoch 66/100\n",
            "1/1 [==============================] - 0s 51ms/step - loss: 0.2884 - accuracy: 0.8983\n",
            "Epoch 67/100\n",
            "1/1 [==============================] - 0s 48ms/step - loss: 0.2196 - accuracy: 0.9492\n",
            "Epoch 68/100\n",
            "1/1 [==============================] - 0s 50ms/step - loss: 0.1929 - accuracy: 0.9153\n",
            "Epoch 69/100\n",
            "1/1 [==============================] - 0s 39ms/step - loss: 0.2296 - accuracy: 0.9322\n",
            "Epoch 70/100\n",
            "1/1 [==============================] - 0s 42ms/step - loss: 0.2109 - accuracy: 0.9153\n",
            "Epoch 71/100\n",
            "1/1 [==============================] - 0s 59ms/step - loss: 0.1461 - accuracy: 0.9661\n",
            "Epoch 72/100\n",
            "1/1 [==============================] - 0s 48ms/step - loss: 0.1463 - accuracy: 0.9492\n",
            "Epoch 73/100\n",
            "1/1 [==============================] - 0s 32ms/step - loss: 0.1676 - accuracy: 0.9153\n",
            "Epoch 74/100\n",
            "1/1 [==============================] - 0s 50ms/step - loss: 0.1479 - accuracy: 0.9322\n",
            "Epoch 75/100\n",
            "1/1 [==============================] - 0s 50ms/step - loss: 0.1123 - accuracy: 0.9661\n",
            "Epoch 76/100\n",
            "1/1 [==============================] - 0s 31ms/step - loss: 0.1753 - accuracy: 0.9492\n",
            "Epoch 77/100\n",
            "1/1 [==============================] - 0s 43ms/step - loss: 0.1568 - accuracy: 0.9492\n",
            "Epoch 78/100\n",
            "1/1 [==============================] - 0s 32ms/step - loss: 0.1339 - accuracy: 0.9492\n",
            "Epoch 79/100\n",
            "1/1 [==============================] - 0s 22ms/step - loss: 0.1769 - accuracy: 0.9153\n",
            "Epoch 80/100\n",
            "1/1 [==============================] - 0s 21ms/step - loss: 0.1387 - accuracy: 0.9153\n",
            "Epoch 81/100\n",
            "1/1 [==============================] - 0s 21ms/step - loss: 0.1343 - accuracy: 0.9661\n",
            "Epoch 82/100\n",
            "1/1 [==============================] - 0s 19ms/step - loss: 0.0883 - accuracy: 0.9661\n",
            "Epoch 83/100\n",
            "1/1 [==============================] - 0s 19ms/step - loss: 0.2469 - accuracy: 0.9322\n",
            "Epoch 84/100\n",
            "1/1 [==============================] - 0s 20ms/step - loss: 0.1288 - accuracy: 0.9661\n",
            "Epoch 85/100\n",
            "1/1 [==============================] - 0s 19ms/step - loss: 0.0867 - accuracy: 0.9661\n",
            "Epoch 86/100\n",
            "1/1 [==============================] - 0s 25ms/step - loss: 0.0882 - accuracy: 0.9661\n",
            "Epoch 87/100\n",
            "1/1 [==============================] - 0s 17ms/step - loss: 0.1218 - accuracy: 0.9322\n",
            "Epoch 88/100\n",
            "1/1 [==============================] - 0s 20ms/step - loss: 0.1450 - accuracy: 0.9492\n",
            "Epoch 89/100\n",
            "1/1 [==============================] - 0s 20ms/step - loss: 0.1194 - accuracy: 0.9492\n",
            "Epoch 90/100\n",
            "1/1 [==============================] - 0s 18ms/step - loss: 0.0980 - accuracy: 0.9492\n",
            "Epoch 91/100\n",
            "1/1 [==============================] - 0s 18ms/step - loss: 0.1136 - accuracy: 0.9492\n",
            "Epoch 92/100\n",
            "1/1 [==============================] - 0s 17ms/step - loss: 0.0711 - accuracy: 0.9831\n",
            "Epoch 93/100\n",
            "1/1 [==============================] - 0s 19ms/step - loss: 0.0758 - accuracy: 0.9661\n",
            "Epoch 94/100\n",
            "1/1 [==============================] - 0s 16ms/step - loss: 0.1352 - accuracy: 0.9492\n",
            "Epoch 95/100\n",
            "1/1 [==============================] - 0s 15ms/step - loss: 0.0808 - accuracy: 0.9661\n",
            "Epoch 96/100\n",
            "1/1 [==============================] - 0s 15ms/step - loss: 0.1283 - accuracy: 0.9661\n",
            "Epoch 97/100\n",
            "1/1 [==============================] - 0s 16ms/step - loss: 0.0988 - accuracy: 0.9661\n",
            "Epoch 98/100\n",
            "1/1 [==============================] - 0s 16ms/step - loss: 0.0739 - accuracy: 0.9661\n",
            "Epoch 99/100\n",
            "1/1 [==============================] - 0s 18ms/step - loss: 0.1037 - accuracy: 0.9831\n",
            "Epoch 100/100\n",
            "1/1 [==============================] - 0s 18ms/step - loss: 0.0445 - accuracy: 1.0000\n"
          ]
        }
      ]
    },
    {
      "cell_type": "code",
      "source": [
        "model.save('flowers.h5')"
      ],
      "metadata": {
        "id": "dZkXSQHgTiSF"
      },
      "execution_count": null,
      "outputs": []
    },
    {
      "cell_type": "code",
      "source": [
        "model_1=load_model('flowers.h5')"
      ],
      "metadata": {
        "id": "J_WhWSxTTm3z"
      },
      "execution_count": null,
      "outputs": []
    },
    {
      "cell_type": "code",
      "source": [
        "import matplotlib.pyplot as plt\n",
        "from keras.utils import load_img\n",
        "from keras.utils.image_utils import img_to_array\n",
        "import numpy as np\n",
        "vat = {1: 'hoa hong',2:'hoa sen', 3:'iris', 4:'tieu cuc',5:'hoa mai vang'}\n",
        "img = load_img(\"/content/drive/MyDrive/Flowers/Sen.jpg\",target_size=(30,40))\n",
        "plt.imshow(img)\n",
        "img = img_to_array(img)\n",
        "img=img.reshape(1,30,40,3)\n",
        "img = img.astype('float32')\n",
        "img =img/255\n",
        "result  = np.argmax(model.predict(img),axis=1)\n",
        "vat[result[0]]"
      ],
      "metadata": {
        "id": "lSiTpvo7TpWQ",
        "colab": {
          "base_uri": "https://localhost:8080/",
          "height": 467
        },
        "outputId": "69d7cad5-0137-431e-9e97-e8358146c7ba"
      },
      "execution_count": null,
      "outputs": [
        {
          "output_type": "stream",
          "name": "stdout",
          "text": [
            "1/1 [==============================] - 0s 19ms/step\n"
          ]
        },
        {
          "output_type": "execute_result",
          "data": {
            "text/plain": [
              "'hoa hong'"
            ],
            "application/vnd.google.colaboratory.intrinsic+json": {
              "type": "string"
            }
          },
          "metadata": {},
          "execution_count": 9
        },
        {
          "output_type": "display_data",
          "data": {
            "text/plain": [
              "<Figure size 640x480 with 1 Axes>"
            ],
            "image/png": "[encoded data removed]"
          },
          "metadata": {}
        }
      ]
    }
  ]
}